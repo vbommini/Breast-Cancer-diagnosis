{
  "nbformat": 4,
  "nbformat_minor": 0,
  "metadata": {
    "colab": {
      "provenance": []
    },
    "kernelspec": {
      "name": "python3",
      "display_name": "Python 3"
    },
    "language_info": {
      "name": "python"
    }
  },
  "cells": [
    {
      "cell_type": "code",
      "execution_count": 21,
      "metadata": {
        "id": "pNfevzQf4Ovk"
      },
      "outputs": [],
      "source": [
        "#importing required libraries\n",
        "import numpy as np\n",
        "from sklearn.datasets import load_breast_cancer\n",
        "from sklearn.model_selection import train_test_split, RandomizedSearchCV, cross_val_score\n",
        "from sklearn.neighbors import KNeighborsClassifier\n",
        "from sklearn import metrics\n",
        "from sklearn.metrics import classification_report\n"
      ]
    },
    {
      "cell_type": "code",
      "source": [
        "#loading the datset\n",
        "bc = load_breast_cancer()\n"
      ],
      "metadata": {
        "id": "JbCaoSN64cqB"
      },
      "execution_count": 2,
      "outputs": []
    },
    {
      "cell_type": "code",
      "source": [
        "# printing the names of the features\n",
        "print(\"Features: \", bc.feature_names)\n",
        "\n",
        "# printing the label type of cancer('malignant' 'benign')\n",
        "print(\"Labels: \", bc.target_names)"
      ],
      "metadata": {
        "colab": {
          "base_uri": "https://localhost:8080/",
          "height": 0
        },
        "id": "WddoFUyP5F_P",
        "outputId": "459feb4f-0182-497b-991d-3d292874f4f6"
      },
      "execution_count": 4,
      "outputs": [
        {
          "output_type": "stream",
          "name": "stdout",
          "text": [
            "Features:  ['mean radius' 'mean texture' 'mean perimeter' 'mean area'\n",
            " 'mean smoothness' 'mean compactness' 'mean concavity'\n",
            " 'mean concave points' 'mean symmetry' 'mean fractal dimension'\n",
            " 'radius error' 'texture error' 'perimeter error' 'area error'\n",
            " 'smoothness error' 'compactness error' 'concavity error'\n",
            " 'concave points error' 'symmetry error' 'fractal dimension error'\n",
            " 'worst radius' 'worst texture' 'worst perimeter' 'worst area'\n",
            " 'worst smoothness' 'worst compactness' 'worst concavity'\n",
            " 'worst concave points' 'worst symmetry' 'worst fractal dimension']\n",
            "Labels:  ['malignant' 'benign']\n"
          ]
        }
      ]
    },
    {
      "cell_type": "code",
      "source": [
        "#splitting into features and target\n",
        "X = bc.data\n",
        "y = bc.target"
      ],
      "metadata": {
        "id": "X0OOPGjT5MuO"
      },
      "execution_count": 5,
      "outputs": []
    },
    {
      "cell_type": "code",
      "source": [
        "#Splitting the dataset into train and test\n",
        "X_train, X_test, y_train, y_test = train_test_split(X, y, test_size=0.2, random_state=42)\n"
      ],
      "metadata": {
        "id": "0xBDd5YI5XlJ"
      },
      "execution_count": 6,
      "outputs": []
    },
    {
      "cell_type": "code",
      "source": [
        "#KNN classifier with defining hyperparameters\n",
        "knn_classifier = KNeighborsClassifier()\n",
        "param_grid = {\n",
        "    'n_neighbors': range(1, 21),\n",
        "    'weights': ['uniform', 'distance'],\n",
        "    'algorithm': ['auto', 'ball_tree', 'kd_tree', 'brute'],\n",
        "    'p': [1, 2]  # for Manhattan and Euclidean distance metrics\n",
        "}\n"
      ],
      "metadata": {
        "id": "dEMEezbH5aKH"
      },
      "execution_count": 7,
      "outputs": []
    },
    {
      "cell_type": "code",
      "source": [
        "# Random search for hyperparameter tuning\n",
        "random_search = RandomizedSearchCV(estimator=knn_classifier, param_distributions=param_grid, n_iter=20, cv=5)\n",
        "random_search.fit(X_train, y_train)\n",
        "\n",
        "best_params = random_search.best_params_\n",
        "best_model = random_search.best_estimator_\n",
        "print(\"Best Hyperparameters:\", best_params)"
      ],
      "metadata": {
        "colab": {
          "base_uri": "https://localhost:8080/",
          "height": 0
        },
        "id": "E9Gby-bB5nGt",
        "outputId": "b06b0931-325d-4ced-abb2-3db14308ee6b"
      },
      "execution_count": 8,
      "outputs": [
        {
          "output_type": "stream",
          "name": "stdout",
          "text": [
            "Best Hyperparameters: {'weights': 'uniform', 'p': 1, 'n_neighbors': 6, 'algorithm': 'auto'}\n"
          ]
        }
      ]
    },
    {
      "cell_type": "code",
      "source": [
        "#Cross validation\n",
        "cv_scores = cross_val_score(best_model, X_train, y_train, cv=10)\n",
        "print(\"Cross-Validation Scores:\", cv_scores)\n",
        "print(\"Mean Cross-Validation Score:\", np.mean(cv_scores))\n"
      ],
      "metadata": {
        "colab": {
          "base_uri": "https://localhost:8080/",
          "height": 0
        },
        "id": "Gc6RppZL5z2M",
        "outputId": "8dba4a95-9c6b-4b4d-acda-f4f35a54ee45"
      },
      "execution_count": 9,
      "outputs": [
        {
          "output_type": "stream",
          "name": "stdout",
          "text": [
            "Cross-Validation Scores: [0.97826087 0.97826087 0.91304348 0.86956522 0.95652174 1.\n",
            " 0.93333333 0.91111111 0.95555556 0.91111111]\n",
            "Mean Cross-Validation Score: 0.9406763285024156\n"
          ]
        }
      ]
    },
    {
      "cell_type": "code",
      "source": [
        "best_model.fit(X_train, y_train)\n",
        "y_pred = best_model.predict(X_test)\n"
      ],
      "metadata": {
        "id": "hmIe556k55yS"
      },
      "execution_count": 10,
      "outputs": []
    },
    {
      "cell_type": "code",
      "source": [
        "# Calculate True Positives (TP), True Negatives (TN), False Positives (FP), False Negatives (FN)\n",
        "TP = np.sum((y_pred == 1) & (y_test == 1))\n",
        "TN = np.sum((y_pred == 0) & (y_test == 0))\n",
        "FP = np.sum((y_pred == 1) & (y_test == 0))\n",
        "FN = np.sum((y_pred == 0) & (y_test == 1))\n",
        "\n",
        "accuracy = (TP + TN) / len(y_test)\n",
        "\n",
        "precision = TP / (TP + FP)\n",
        "\n",
        "sensitivity = TP / (TP + FN)\n",
        "\n",
        "specificity = TN / (TN + FP)\n",
        "\n",
        "print(\"Performance Metrics:\")\n",
        "print(\"Test Accuracy:\", accuracy)\n",
        "print(\"Precision:\", precision)\n",
        "print(\"Sensitivity (Recall):\", sensitivity)\n",
        "print(\"Specificity:\", specificity)\n"
      ],
      "metadata": {
        "colab": {
          "base_uri": "https://localhost:8080/",
          "height": 0
        },
        "id": "Ii1vrOBu7OIv",
        "outputId": "0856d9ee-07d0-4b5f-c7a1-6c2225d86378"
      },
      "execution_count": 18,
      "outputs": [
        {
          "output_type": "stream",
          "name": "stdout",
          "text": [
            "Performance Metrics:\n",
            "Test Accuracy: 0.956140350877193\n",
            "Precision: 0.9459459459459459\n",
            "Sensitivity (Recall): 0.9859154929577465\n",
            "Specificity: 0.9069767441860465\n"
          ]
        }
      ]
    },
    {
      "cell_type": "code",
      "source": [
        "report = classification_report(y_test, y_pred)\n",
        "print(\"\\nClassification Report:\\n\", report)"
      ],
      "metadata": {
        "colab": {
          "base_uri": "https://localhost:8080/",
          "height": 0
        },
        "id": "xKAxlfW_9hK3",
        "outputId": "2e1d8617-41c3-489a-e34b-cfd18ae077ea"
      },
      "execution_count": 24,
      "outputs": [
        {
          "output_type": "stream",
          "name": "stdout",
          "text": [
            "\n",
            "Classification Report:\n",
            "               precision    recall  f1-score   support\n",
            "\n",
            "           0       0.97      0.91      0.94        43\n",
            "           1       0.95      0.99      0.97        71\n",
            "\n",
            "    accuracy                           0.96       114\n",
            "   macro avg       0.96      0.95      0.95       114\n",
            "weighted avg       0.96      0.96      0.96       114\n",
            "\n"
          ]
        }
      ]
    }
  ]
}